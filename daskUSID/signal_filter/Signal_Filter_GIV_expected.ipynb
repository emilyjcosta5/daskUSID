{
 "cells": [
  {
   "cell_type": "markdown",
   "metadata": {},
   "source": [
    "***Import necessary packages.***\n",
    "While testing dask_process() class, make sure to call on functions from that class, not the regular process() class."
   ]
  },
  {
   "cell_type": "code",
   "execution_count": 1,
   "metadata": {},
   "outputs": [],
   "source": [
    "import pyUSID as usid\n",
    "from pyUSID.processing.comp_utils import parallel_compute, get_MPI, group_ranks_by_socket, get_available_memory\n",
    "from dask.distributed import Client\n",
    "import dask.array as da"
   ]
  },
  {
   "cell_type": "code",
   "execution_count": 2,
   "metadata": {},
   "outputs": [
    {
     "data": {
      "text/plain": [
       "['dask_process.py',\n",
       " '.DS_Store',\n",
       " 'Signal_Filter_GIV_expected.py',\n",
       " 'pzt_nanocap_6_just_translation_copy.h5',\n",
       " '__pycache__',\n",
       " 'gmode_utils.py',\n",
       " 'Signal_Filter_GIV_expected.ipynb',\n",
       " '.ipynb_checkpoints',\n",
       " 'Signal_Filter_GIV_expected.html',\n",
       " 'fft.py',\n",
       " 'dask_signal_filter.py',\n",
       " 'dask-worker-space']"
      ]
     },
     "execution_count": 2,
     "metadata": {},
     "output_type": "execute_result"
    }
   ],
   "source": [
    "import os\n",
    "os.listdir()"
   ]
  },
  {
   "cell_type": "code",
   "execution_count": 3,
   "metadata": {},
   "outputs": [],
   "source": [
    "import h5py\n",
    "import numpy as np\n",
    "import matplotlib.pyplot as plt\n",
    "from shutil import copyfile\n",
    "import tempfile\n",
    "\n",
    "# I am importing pycroscopy from the original package but you will have to change yours\n",
    "import sys\n",
    "#sys.path.append('/Users/syz/PycharmProjects/pyUSID/')\n",
    "sys.path.append('/Users/syz/PycharmProjects/pycroscopy/')\n",
    "#from pycroscopy.processing import SignalFilter\n",
    "#from pycroscopy.processing import fft\n",
    "# You will need to do something like:\n",
    "from fft import LowPassFilter\n",
    "from dask_signal_filter import SignalFilter"
   ]
  },
  {
   "cell_type": "markdown",
   "metadata": {},
   "source": [
    "***Creates temporary file*** as to not mess up original file."
   ]
  },
  {
   "cell_type": "code",
   "execution_count": 4,
   "metadata": {},
   "outputs": [],
   "source": [
    "orig_path = 'pzt_nanocap_6_just_translation_copy.h5'\n",
    "\n",
    "with tempfile.TemporaryDirectory() as tmp_dir:\n",
    "    h5_path = tmp_dir + 'gline.h5'\n",
    "    copyfile(orig_path, h5_path)"
   ]
  },
  {
   "cell_type": "markdown",
   "metadata": {},
   "source": [
    "***Finds and assigns main dataset, Raw_Data, to h5_main***"
   ]
  },
  {
   "cell_type": "code",
   "execution_count": 5,
   "metadata": {},
   "outputs": [],
   "source": [
    "h5_f = h5py.File(h5_path, mode='r+')\n",
    "# Not necessary I think but Chris used it\n",
    "h5_f.atomic = True # This doesn't seem to make any difference\n",
    "\n",
    "h5_grp = h5_f['Measurement_000/Channel_000']\n",
    "h5_main = h5_grp['Raw_Data']\n",
    "#h5_main.value\n",
    "#h5_main = usid.USIDataset(h5_main)"
   ]
  },
  {
   "cell_type": "markdown",
   "metadata": {},
   "source": []
  },
  {
   "cell_type": "code",
   "execution_count": 6,
   "metadata": {},
   "outputs": [
    {
     "name": "stdout",
     "output_type": "stream",
     "text": [
      "Consider calling test() to check results before calling compute() which computes on the entire dataset and writes back to the HDF5 file\n",
      "Checking for duplicates:\n"
     ]
    }
   ],
   "source": [
    "samp_rate = h5_grp.attrs['IO_samp_rate_[Hz]']\n",
    "num_spectral_pts = h5_main.shape[1]\n",
    "\n",
    "frequency_filters = [LowPassFilter(num_spectral_pts, samp_rate, 10E+3)]\n",
    "noise_tol = 1E-6\n",
    "\n",
    "sig_filt = SignalFilter(h5_main, frequency_filters=frequency_filters,\n",
    "                           noise_threshold=noise_tol, write_filtered=True,\n",
    "                           write_condensed=False, num_pix=1, \n",
    "                        verbose=True)\n",
    "\n",
    "# Set verbose=True to get more information on your print statements"
   ]
  },
  {
   "cell_type": "markdown",
   "metadata": {},
   "source": [
    "***Calls compute function.***"
   ]
  },
  {
   "cell_type": "code",
   "execution_count": 7,
   "metadata": {},
   "outputs": [
    {
     "data": {
      "text/plain": [
       "array([[  1,   2,   3,   4,   5,   6,   7,   8,   9,  10],\n",
       "       [ 11,  12,  13,  14,  15,  16,  17,  18,  19,  20],\n",
       "       [ 21,  22,  23,  24,  25,  26,  27,  28,  29,  30],\n",
       "       [ 31,  32,  33,  34,  35,  36,  37,  38,  39,  40],\n",
       "       [ 41,  42,  43,  44,  45,  46,  47,  48,  49,  50],\n",
       "       [ 51,  52,  53,  54,  55,  56,  57,  58,  59,  60],\n",
       "       [ 61,  62,  63,  64,  65,  66,  67,  68,  69,  70],\n",
       "       [ 71,  72,  73,  74,  75,  76,  77,  78,  79,  80],\n",
       "       [ 81,  82,  83,  84,  85,  86,  87,  88,  89,  90],\n",
       "       [ 91,  92,  93,  94,  95,  96,  97,  98,  99, 100]])"
      ]
     },
     "execution_count": 7,
     "metadata": {},
     "output_type": "execute_result"
    }
   ],
   "source": [
    "client = Client(processes=False)\n",
    "arr = np.arange(100).reshape((10,10))\n",
    "dset = h5_f.create_dataset(\"MyDataset\", data=arr)\n",
    "y = da.from_array(dset, chunks='auto')\n",
    "def inc(sum):\n",
    "    return sum + 1\n",
    "results = y.map_blocks(inc, dtype=y.dtype)\n",
    "array = results.compute()\n",
    "array"
   ]
  },
  {
   "cell_type": "code",
   "execution_count": 8,
   "metadata": {},
   "outputs": [
    {
     "ename": "NameError",
     "evalue": "name 'breakpoint' is not defined",
     "output_type": "error",
     "traceback": [
      "\u001b[0;31m---------------------------------------------------------------------------\u001b[0m",
      "\u001b[0;31mNameError\u001b[0m                                 Traceback (most recent call last)",
      "\u001b[0;32m<ipython-input-8-d45fe35d5652>\u001b[0m in \u001b[0;36m<module>\u001b[0;34m\u001b[0m\n\u001b[0;32m----> 1\u001b[0;31m \u001b[0mbreakpoint\u001b[0m\u001b[0;34m(\u001b[0m\u001b[0;34m)\u001b[0m\u001b[0;34m\u001b[0m\u001b[0;34m\u001b[0m\u001b[0m\n\u001b[0m\u001b[1;32m      2\u001b[0m \u001b[0mh5_filt_grp\u001b[0m \u001b[0;34m=\u001b[0m \u001b[0msig_filt\u001b[0m\u001b[0;34m.\u001b[0m\u001b[0mcompute\u001b[0m\u001b[0;34m(\u001b[0m\u001b[0moverride\u001b[0m\u001b[0;34m=\u001b[0m\u001b[0;32mTrue\u001b[0m\u001b[0;34m)\u001b[0m\u001b[0;34m\u001b[0m\u001b[0;34m\u001b[0m\u001b[0m\n",
      "\u001b[0;31mNameError\u001b[0m: name 'breakpoint' is not defined"
     ]
    }
   ],
   "source": [
    "breakpoint()\n",
    "h5_filt_grp = sig_filt.compute(override=True)"
   ]
  },
  {
   "cell_type": "markdown",
   "metadata": {},
   "source": [
    "***Preparing for visualization.***"
   ]
  },
  {
   "cell_type": "code",
   "execution_count": null,
   "metadata": {},
   "outputs": [],
   "source": [
    "bias_vec = 6 * np.sin( np.linspace(0, 2*np.pi, 500))\n",
    "h5_filt = h5_filt_grp['Filtered_Data']\n",
    "row_ind = 40\n",
    "filt_row = h5_filt[row_ind].reshape(-1, bias_vec.size)\n",
    "raw_row = h5_main[row_ind].reshape(-1, bias_vec.size)"
   ]
  },
  {
   "cell_type": "markdown",
   "metadata": {},
   "source": [
    "***Visualization.***"
   ]
  },
  {
   "cell_type": "code",
   "execution_count": null,
   "metadata": {},
   "outputs": [],
   "source": [
    "plots_on_side = 3\n",
    "\n",
    "fig, axes = plt.subplots(nrows=plots_on_side, ncols=plots_on_side, figsize=(15, 15))\n",
    "for axis, col_ind in zip(axes.flat, np.linspace(0, filt_row.shape[0]-1, plots_on_side ** 2, dtype=np.uint8)):\n",
    "    axis.plot(bias_vec, raw_row[col_ind], 'r')\n",
    "    axis.plot(bias_vec, filt_row[col_ind], 'k')\n",
    "    axis.set_title('Row {} Col {}'.format(row_ind, col_ind))\n",
    "axis.legend(['Raw', 'Filtered'])\n",
    "fig.tight_layout()"
   ]
  },
  {
   "cell_type": "code",
   "execution_count": null,
   "metadata": {},
   "outputs": [],
   "source": [
    "h5_f.close()"
   ]
  },
  {
   "cell_type": "code",
   "execution_count": null,
   "metadata": {},
   "outputs": [],
   "source": []
  }
 ],
 "metadata": {
  "kernelspec": {
   "display_name": "Python 3",
   "language": "python",
   "name": "python3"
  },
  "language_info": {
   "codemirror_mode": {
    "name": "ipython",
    "version": 3
   },
   "file_extension": ".py",
   "mimetype": "text/x-python",
   "name": "python",
   "nbconvert_exporter": "python",
   "pygments_lexer": "ipython3",
   "version": "3.6.8"
  }
 },
 "nbformat": 4,
 "nbformat_minor": 2
}
